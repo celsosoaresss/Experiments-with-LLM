{
 "cells": [
  {
   "cell_type": "code",
   "execution_count": null,
   "id": "47fa2224",
   "metadata": {},
   "outputs": [
    {
     "name": "stderr",
     "output_type": "stream",
     "text": [
      "Fetching 10 files: 100%|██████████| 10/10 [00:00<00:00, 89430.79it/s]\n"
     ]
    },
    {
     "name": "stdout",
     "output_type": "stream",
     "text": [
      "Oi! Sim, eu consigo responder em português brasileiro. Como posso ajudar você hoje?\n"
     ]
    }
   ],
   "source": [
    "from mlx_lm import load, generate\n",
    "\n",
    "# Carrega o modelo e o tokenizer\n",
    "model, tokenizer = load(\"NexVeridian/gpt-oss-20b-4bit\")\n",
    "\n",
    "prompt = \"oi, você é capaz de responder em pt-br?\"\n",
    "\n",
    "# Aplica o template de chat, se disponível\n",
    "if tokenizer.chat_template is not None:\n",
    "    messages = [{\"role\": \"user\", \"content\": prompt}]\n",
    "    prompt = tokenizer.apply_chat_template(\n",
    "        messages, add_generation_prompt=True\n",
    "    )\n",
    "\n",
    "# Gera a resposta completa (com o \"pensamento\")\n",
    "full_response = generate(model, tokenizer, prompt=prompt, verbose=False)\n",
    "\n",
    "# Define o marcador que separa o pensamento da resposta final\n",
    "final_answer_marker = \"<|start|>assistant<|channel|>final<|message|>\"\n",
    "\n",
    "# Divide a string no marcador e pega a última parte, que é a resposta limpa\n",
    "if final_answer_marker in full_response:\n",
    "    clean_response = full_response.split(final_answer_marker)[-1].strip()\n",
    "else:\n",
    "    # Caso o marcador não seja encontrado, usa a resposta completa\n",
    "    clean_response = full_response.strip()\n",
    "\n",
    "# Imprime apenas a resposta final e limpa\n",
    "print(clean_response)"
   ]
  },
  {
   "cell_type": "code",
   "execution_count": null,
   "id": "c9401b28",
   "metadata": {},
   "outputs": [],
   "source": []
  }
 ],
 "metadata": {
  "kernelspec": {
   "display_name": ".venv",
   "language": "python",
   "name": "python3"
  },
  "language_info": {
   "codemirror_mode": {
    "name": "ipython",
    "version": 3
   },
   "file_extension": ".py",
   "mimetype": "text/x-python",
   "name": "python",
   "nbconvert_exporter": "python",
   "pygments_lexer": "ipython3",
   "version": "3.13.5"
  }
 },
 "nbformat": 4,
 "nbformat_minor": 5
}
