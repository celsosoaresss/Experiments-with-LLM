{
 "cells": [
  {
   "cell_type": "code",
   "execution_count": 5,
   "id": "35a397eb",
   "metadata": {},
   "outputs": [],
   "source": [
    "import openai"
   ]
  },
  {
   "cell_type": "code",
   "execution_count": 6,
   "id": "2e1d8b8a",
   "metadata": {},
   "outputs": [],
   "source": [
    "client = openai.OpenAI(\n",
    "    base_url=\"http://localhost:1234/v1\",\n",
    "    api_key=\"nao-e-necessaria\"  # Pode ser qualquer string, não será usada.\n",
    ")"
   ]
  },
  {
   "cell_type": "code",
   "execution_count": 7,
   "id": "ce95bb21",
   "metadata": {},
   "outputs": [],
   "source": [
    "messages = [\n",
    "    {\"role\": \"system\", \"content\": \"Você é um assistente de programação útil e conciso.\"},\n",
    "    {\"role\": \"user\", \"content\": \"Crie uma função em Python que receba uma lista de números e retorne apenas os números pares.\"}\n",
    "]"
   ]
  },
  {
   "cell_type": "code",
   "execution_count": null,
   "id": "bf14ea07",
   "metadata": {},
   "outputs": [
    {
     "name": "stdout",
     "output_type": "stream",
     "text": [
      "🤖 Resposta do Modelo:\n",
      "```python\n",
      "def pares(lista):\n",
      "    \"\"\"Retorna uma nova lista contendo apenas os números pares da entrada.\"\"\"\n",
      "    return [x for x in lista if isinstance(x, (int, float)) and x % 2 == 0]\n",
      "```\n",
      "\n",
      "**Exemplo de uso**\n",
      "\n",
      "```python\n",
      "print(pares([1, 2, 3, 4, 5, 6]))   # Saída: [2, 4, 6]\n",
      "```\n",
      "\n",
      "A função usa compreensão de lista para filtrar os elementos que são inteiros ou floats e cujo resto da divisão por 2 é zero.\n"
     ]
    }
   ],
   "source": [
    "try:\n",
    "    completion = client.chat.completions.create(\n",
    "        model=\"local-model\", \n",
    "        messages=messages,\n",
    "        temperature=0.1,      \n",
    "        stream=False        \n",
    "    )\n",
    "\n",
    "    # Ponto 4: Exibição da Resposta\n",
    "    # A resposta do modelo estará dentro da estrutura de dados retornada.\n",
    "    response_content = completion.choices[0].message.content\n",
    "    print(\"🤖 Resposta do Modelo:\")\n",
    "    print(response_content)\n",
    "\n",
    "except openai.APIConnectionError as e:\n",
    "    print(\"Erro de conexão: Não foi possível se conectar ao servidor do LMStudio.\")\n",
    "    print(\"Verifique se o LMStudio está em execução e se o servidor local foi iniciado na porta 1234.\")\n",
    "    print(f\"Detalhes do erro: {e.__cause__}\")\n",
    "except Exception as e:\n",
    "    print(f\"Ocorreu um erro inesperado: {e}\")"
   ]
  },
  {
   "cell_type": "code",
   "execution_count": null,
   "id": "77322379",
   "metadata": {},
   "outputs": [],
   "source": []
  }
 ],
 "metadata": {
  "kernelspec": {
   "display_name": ".venv",
   "language": "python",
   "name": "python3"
  },
  "language_info": {
   "codemirror_mode": {
    "name": "ipython",
    "version": 3
   },
   "file_extension": ".py",
   "mimetype": "text/x-python",
   "name": "python",
   "nbconvert_exporter": "python",
   "pygments_lexer": "ipython3",
   "version": "3.13.5"
  }
 },
 "nbformat": 4,
 "nbformat_minor": 5
}
